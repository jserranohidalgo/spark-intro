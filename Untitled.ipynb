{
 "cells": [
  {
   "cell_type": "code",
   "execution_count": 1,
   "metadata": {},
   "outputs": [
    {
     "name": "stdout",
     "output_type": "stream",
     "text": [
      "Compiling /Users/jserrano/Documents/spark-intro/sparksession.scLoading spark-stubs\n",
      "Getting spark JARs\n"
     ]
    },
    {
     "name": "stderr",
     "output_type": "stream",
     "text": [
      "log4j:WARN No appenders could be found for logger (org.eclipse.jetty.util.log).\n",
      "log4j:WARN Please initialize the log4j system properly.\n",
      "log4j:WARN See http://logging.apache.org/log4j/1.2/faq.html#noconfig for more info.\n"
     ]
    },
    {
     "name": "stdout",
     "output_type": "stream",
     "text": [
      "Creating SparkSession\n"
     ]
    },
    {
     "name": "stderr",
     "output_type": "stream",
     "text": [
      "Using Spark's default log4j profile: org/apache/spark/log4j-defaults.properties\n",
      "20/02/26 19:09:11 INFO SparkContext: Running Spark version 2.4.3\n",
      "20/02/26 19:09:12 WARN NativeCodeLoader: Unable to load native-hadoop library for your platform... using builtin-java classes where applicable\n",
      "20/02/26 19:09:12 INFO SparkContext: Submitted application: 24136355-7390-4405-b54e-d0b1c319e107\n",
      "20/02/26 19:09:12 INFO SecurityManager: Changing view acls to: jserrano\n",
      "20/02/26 19:09:12 INFO SecurityManager: Changing modify acls to: jserrano\n",
      "20/02/26 19:09:12 INFO SecurityManager: Changing view acls groups to: \n",
      "20/02/26 19:09:12 INFO SecurityManager: Changing modify acls groups to: \n",
      "20/02/26 19:09:12 INFO SecurityManager: SecurityManager: authentication disabled; ui acls disabled; users  with view permissions: Set(jserrano); groups with view permissions: Set(); users  with modify permissions: Set(jserrano); groups with modify permissions: Set()\n",
      "20/02/26 19:09:13 INFO Utils: Successfully started service 'sparkDriver' on port 53964.\n",
      "20/02/26 19:09:13 INFO SparkEnv: Registering MapOutputTracker\n",
      "20/02/26 19:09:13 INFO SparkEnv: Registering BlockManagerMaster\n",
      "20/02/26 19:09:13 INFO BlockManagerMasterEndpoint: Using org.apache.spark.storage.DefaultTopologyMapper for getting topology information\n",
      "20/02/26 19:09:13 INFO BlockManagerMasterEndpoint: BlockManagerMasterEndpoint up\n",
      "20/02/26 19:09:14 INFO DiskBlockManager: Created local directory at /private/var/folders/0n/mm44trks5_96srf708_htq140000gn/T/blockmgr-e5a0dd22-f4d8-4c7b-b5be-9cd991db3e89\n",
      "20/02/26 19:09:14 INFO MemoryStore: MemoryStore started with capacity 912.3 MB\n",
      "20/02/26 19:09:14 INFO SparkEnv: Registering OutputCommitCoordinator\n",
      "20/02/26 19:09:14 INFO Utils: Successfully started service 'SparkUI' on port 4041.\n",
      "20/02/26 19:09:14 INFO SparkUI: Bound SparkUI to 0.0.0.0, and started at http://192.168.1.36:4041\n",
      "20/02/26 19:09:15 INFO SparkContext: Added JAR file:/Users/jserrano/Library/Caches/Coursier/v1/https/jitpack.io/com/github/jupyter/jvm-repr/0.4.0/jvm-repr-0.4.0-sources.jar at spark://192.168.1.36:53964/jars/jvm-repr-0.4.0-sources.jar with timestamp 1582740555011\n",
      "20/02/26 19:09:15 INFO SparkContext: Added JAR file:/Users/jserrano/Library/Caches/Coursier/v1/https/jitpack.io/com/github/jupyter/jvm-repr/0.4.0/jvm-repr-0.4.0.jar at spark://192.168.1.36:53964/jars/jvm-repr-0.4.0.jar with timestamp 1582740555013\n",
      "20/02/26 19:09:15 INFO SparkContext: Added JAR file:/Users/jserrano/Library/Caches/Coursier/v1/https/repo1.maven.org/maven2/com/github/scopt/scopt_2.12/3.7.1/scopt_2.12-3.7.1-sources.jar at spark://192.168.1.36:53964/jars/scopt_2.12-3.7.1-sources.jar with timestamp 1582740555014\n",
      "20/02/26 19:09:15 INFO SparkContext: Added JAR file:/Users/jserrano/Library/Caches/Coursier/v1/https/repo1.maven.org/maven2/com/github/scopt/scopt_2.12/3.7.1/scopt_2.12-3.7.1.jar at spark://192.168.1.36:53964/jars/scopt_2.12-3.7.1.jar with timestamp 1582740555015\n",
      "20/02/26 19:09:15 INFO SparkContext: Added JAR file:/Users/jserrano/Library/Caches/Coursier/v1/https/repo1.maven.org/maven2/com/lihaoyi/ammonite-interp-api_2.12.9/1.7.4/ammonite-interp-api_2.12.9-1.7.4-sources.jar at spark://192.168.1.36:53964/jars/ammonite-interp-api_2.12.9-1.7.4-sources.jar with timestamp 1582740555016\n",
      "20/02/26 19:09:15 INFO SparkContext: Added JAR file:/Users/jserrano/Library/Caches/Coursier/v1/https/repo1.maven.org/maven2/com/lihaoyi/ammonite-interp-api_2.12.9/1.7.4/ammonite-interp-api_2.12.9-1.7.4.jar at spark://192.168.1.36:53964/jars/ammonite-interp-api_2.12.9-1.7.4.jar with timestamp 1582740555018\n",
      "20/02/26 19:09:15 INFO SparkContext: Added JAR file:/Users/jserrano/Library/Caches/Coursier/v1/https/repo1.maven.org/maven2/com/lihaoyi/ammonite-ops_2.12/1.7.4/ammonite-ops_2.12-1.7.4-sources.jar at spark://192.168.1.36:53964/jars/ammonite-ops_2.12-1.7.4-sources.jar with timestamp 1582740555021\n",
      "20/02/26 19:09:15 INFO SparkContext: Added JAR file:/Users/jserrano/Library/Caches/Coursier/v1/https/repo1.maven.org/maven2/com/lihaoyi/ammonite-ops_2.12/1.7.4/ammonite-ops_2.12-1.7.4.jar at spark://192.168.1.36:53964/jars/ammonite-ops_2.12-1.7.4.jar with timestamp 1582740555022\n",
      "20/02/26 19:09:15 INFO SparkContext: Added JAR file:/Users/jserrano/Library/Caches/Coursier/v1/https/repo1.maven.org/maven2/com/lihaoyi/ammonite-repl-api_2.12.9/1.7.4/ammonite-repl-api_2.12.9-1.7.4-sources.jar at spark://192.168.1.36:53964/jars/ammonite-repl-api_2.12.9-1.7.4-sources.jar with timestamp 1582740555023\n",
      "20/02/26 19:09:15 INFO SparkContext: Added JAR file:/Users/jserrano/Library/Caches/Coursier/v1/https/repo1.maven.org/maven2/com/lihaoyi/ammonite-repl-api_2.12.9/1.7.4/ammonite-repl-api_2.12.9-1.7.4.jar at spark://192.168.1.36:53964/jars/ammonite-repl-api_2.12.9-1.7.4.jar with timestamp 1582740555024\n",
      "20/02/26 19:09:15 INFO SparkContext: Added JAR file:/Users/jserrano/Library/Caches/Coursier/v1/https/repo1.maven.org/maven2/com/lihaoyi/ammonite-util_2.12/1.7.4/ammonite-util_2.12-1.7.4-sources.jar at spark://192.168.1.36:53964/jars/ammonite-util_2.12-1.7.4-sources.jar with timestamp 1582740555024\n",
      "20/02/26 19:09:15 INFO SparkContext: Added JAR file:/Users/jserrano/Library/Caches/Coursier/v1/https/repo1.maven.org/maven2/com/lihaoyi/ammonite-util_2.12/1.7.4/ammonite-util_2.12-1.7.4.jar at spark://192.168.1.36:53964/jars/ammonite-util_2.12-1.7.4.jar with timestamp 1582740555028\n",
      "20/02/26 19:09:15 INFO SparkContext: Added JAR file:/Users/jserrano/Library/Caches/Coursier/v1/https/repo1.maven.org/maven2/com/lihaoyi/fansi_2.12/0.2.7/fansi_2.12-0.2.7-sources.jar at spark://192.168.1.36:53964/jars/fansi_2.12-0.2.7-sources.jar with timestamp 1582740555029\n",
      "20/02/26 19:09:15 INFO SparkContext: Added JAR file:/Users/jserrano/Library/Caches/Coursier/v1/https/repo1.maven.org/maven2/com/lihaoyi/fansi_2.12/0.2.7/fansi_2.12-0.2.7.jar at spark://192.168.1.36:53964/jars/fansi_2.12-0.2.7.jar with timestamp 1582740555029\n",
      "20/02/26 19:09:15 INFO SparkContext: Added JAR file:/Users/jserrano/Library/Caches/Coursier/v1/https/repo1.maven.org/maven2/com/lihaoyi/geny_2.12/0.1.8/geny_2.12-0.1.8-sources.jar at spark://192.168.1.36:53964/jars/geny_2.12-0.1.8-sources.jar with timestamp 1582740555030\n",
      "20/02/26 19:09:15 INFO SparkContext: Added JAR file:/Users/jserrano/Library/Caches/Coursier/v1/https/repo1.maven.org/maven2/com/lihaoyi/geny_2.12/0.1.8/geny_2.12-0.1.8.jar at spark://192.168.1.36:53964/jars/geny_2.12-0.1.8.jar with timestamp 1582740555030\n",
      "20/02/26 19:09:15 INFO SparkContext: Added JAR file:/Users/jserrano/Library/Caches/Coursier/v1/https/repo1.maven.org/maven2/com/lihaoyi/os-lib_2.12/0.3.0/os-lib_2.12-0.3.0-sources.jar at spark://192.168.1.36:53964/jars/os-lib_2.12-0.3.0-sources.jar with timestamp 1582740555031\n",
      "20/02/26 19:09:15 INFO SparkContext: Added JAR file:/Users/jserrano/Library/Caches/Coursier/v1/https/repo1.maven.org/maven2/com/lihaoyi/os-lib_2.12/0.3.0/os-lib_2.12-0.3.0.jar at spark://192.168.1.36:53964/jars/os-lib_2.12-0.3.0.jar with timestamp 1582740555032\n",
      "20/02/26 19:09:15 INFO SparkContext: Added JAR file:/Users/jserrano/Library/Caches/Coursier/v1/https/repo1.maven.org/maven2/com/lihaoyi/pprint_2.12/0.5.5/pprint_2.12-0.5.5-sources.jar at spark://192.168.1.36:53964/jars/pprint_2.12-0.5.5-sources.jar with timestamp 1582740555033\n",
      "20/02/26 19:09:15 INFO SparkContext: Added JAR file:/Users/jserrano/Library/Caches/Coursier/v1/https/repo1.maven.org/maven2/com/lihaoyi/pprint_2.12/0.5.5/pprint_2.12-0.5.5.jar at spark://192.168.1.36:53964/jars/pprint_2.12-0.5.5.jar with timestamp 1582740555034\n",
      "20/02/26 19:09:15 INFO SparkContext: Added JAR file:/Users/jserrano/Library/Caches/Coursier/v1/https/repo1.maven.org/maven2/com/lihaoyi/sourcecode_2.12/0.1.7/sourcecode_2.12-0.1.7-sources.jar at spark://192.168.1.36:53964/jars/sourcecode_2.12-0.1.7-sources.jar with timestamp 1582740555035\n",
      "20/02/26 19:09:15 INFO SparkContext: Added JAR file:/Users/jserrano/Library/Caches/Coursier/v1/https/repo1.maven.org/maven2/com/lihaoyi/sourcecode_2.12/0.1.7/sourcecode_2.12-0.1.7.jar at spark://192.168.1.36:53964/jars/sourcecode_2.12-0.1.7.jar with timestamp 1582740555036\n",
      "20/02/26 19:09:15 INFO SparkContext: Added JAR file:/Users/jserrano/Library/Caches/Coursier/v1/https/repo1.maven.org/maven2/io/get-coursier/interface/0.0.12/interface-0.0.12-sources.jar at spark://192.168.1.36:53964/jars/interface-0.0.12-sources.jar with timestamp 1582740555036\n"
     ]
    },
    {
     "name": "stderr",
     "output_type": "stream",
     "text": [
      "20/02/26 19:09:15 INFO SparkContext: Added JAR file:/Users/jserrano/Library/Caches/Coursier/v1/https/repo1.maven.org/maven2/io/get-coursier/interface/0.0.12/interface-0.0.12.jar at spark://192.168.1.36:53964/jars/interface-0.0.12.jar with timestamp 1582740555039\n",
      "20/02/26 19:09:15 INFO SparkContext: Added JAR file:/Users/jserrano/Library/Caches/Coursier/v1/https/repo1.maven.org/maven2/org/scala-lang/modules/scala-collection-compat_2.12/2.0.0/scala-collection-compat_2.12-2.0.0-sources.jar at spark://192.168.1.36:53964/jars/scala-collection-compat_2.12-2.0.0-sources.jar with timestamp 1582740555040\n",
      "20/02/26 19:09:15 INFO SparkContext: Added JAR file:/Users/jserrano/Library/Caches/Coursier/v1/https/repo1.maven.org/maven2/org/scala-lang/modules/scala-collection-compat_2.12/2.0.0/scala-collection-compat_2.12-2.0.0.jar at spark://192.168.1.36:53964/jars/scala-collection-compat_2.12-2.0.0.jar with timestamp 1582740555041\n",
      "20/02/26 19:09:15 INFO SparkContext: Added JAR file:/Users/jserrano/Library/Caches/Coursier/v1/https/repo1.maven.org/maven2/org/scala-lang/modules/scala-xml_2.12/1.2.0/scala-xml_2.12-1.2.0-sources.jar at spark://192.168.1.36:53964/jars/scala-xml_2.12-1.2.0-sources.jar with timestamp 1582740555043\n",
      "20/02/26 19:09:15 INFO SparkContext: Added JAR file:/Users/jserrano/Library/Caches/Coursier/v1/https/repo1.maven.org/maven2/org/scala-lang/modules/scala-xml_2.12/1.2.0/scala-xml_2.12-1.2.0.jar at spark://192.168.1.36:53964/jars/scala-xml_2.12-1.2.0.jar with timestamp 1582740555044\n",
      "20/02/26 19:09:15 INFO SparkContext: Added JAR file:/Users/jserrano/Library/Caches/Coursier/v1/https/repo1.maven.org/maven2/org/scala-lang/scala-compiler/2.12.9/scala-compiler-2.12.9-sources.jar at spark://192.168.1.36:53964/jars/scala-compiler-2.12.9-sources.jar with timestamp 1582740555045\n",
      "20/02/26 19:09:15 INFO SparkContext: Added JAR file:/Users/jserrano/Library/Caches/Coursier/v1/https/repo1.maven.org/maven2/org/scala-lang/scala-library/2.12.9/scala-library-2.12.9-sources.jar at spark://192.168.1.36:53964/jars/scala-library-2.12.9-sources.jar with timestamp 1582740555045\n",
      "20/02/26 19:09:15 INFO SparkContext: Added JAR file:/Users/jserrano/Library/Caches/Coursier/v1/https/repo1.maven.org/maven2/org/scala-lang/scala-reflect/2.12.9/scala-reflect-2.12.9-sources.jar at spark://192.168.1.36:53964/jars/scala-reflect-2.12.9-sources.jar with timestamp 1582740555045\n",
      "20/02/26 19:09:15 INFO SparkContext: Added JAR file:/Users/jserrano/Library/Caches/Coursier/v1/https/repo1.maven.org/maven2/sh/almond/interpreter-api_2.12/0.8.2/interpreter-api_2.12-0.8.2-sources.jar at spark://192.168.1.36:53964/jars/interpreter-api_2.12-0.8.2-sources.jar with timestamp 1582740555046\n",
      "20/02/26 19:09:15 INFO SparkContext: Added JAR file:/Users/jserrano/Library/Caches/Coursier/v1/https/repo1.maven.org/maven2/sh/almond/interpreter-api_2.12/0.8.2/interpreter-api_2.12-0.8.2.jar at spark://192.168.1.36:53964/jars/interpreter-api_2.12-0.8.2.jar with timestamp 1582740555046\n",
      "20/02/26 19:09:15 INFO SparkContext: Added JAR file:/Users/jserrano/Library/Caches/Coursier/v1/https/repo1.maven.org/maven2/sh/almond/jupyter-api_2.12/0.8.2/jupyter-api_2.12-0.8.2-sources.jar at spark://192.168.1.36:53964/jars/jupyter-api_2.12-0.8.2-sources.jar with timestamp 1582740555046\n",
      "20/02/26 19:09:15 INFO SparkContext: Added JAR file:/Users/jserrano/Library/Caches/Coursier/v1/https/repo1.maven.org/maven2/sh/almond/jupyter-api_2.12/0.8.2/jupyter-api_2.12-0.8.2.jar at spark://192.168.1.36:53964/jars/jupyter-api_2.12-0.8.2.jar with timestamp 1582740555047\n",
      "20/02/26 19:09:15 INFO SparkContext: Added JAR file:/Users/jserrano/Library/Caches/Coursier/v1/https/repo1.maven.org/maven2/sh/almond/scala-kernel-api_2.12.9/0.8.2/scala-kernel-api_2.12.9-0.8.2-sources.jar at spark://192.168.1.36:53964/jars/scala-kernel-api_2.12.9-0.8.2-sources.jar with timestamp 1582740555051\n",
      "20/02/26 19:09:15 INFO SparkContext: Added JAR file:/Users/jserrano/Library/Caches/Coursier/v1/https/repo1.maven.org/maven2/sh/almond/scala-kernel-api_2.12.9/0.8.2/scala-kernel-api_2.12.9-0.8.2.jar at spark://192.168.1.36:53964/jars/scala-kernel-api_2.12.9-0.8.2.jar with timestamp 1582740555053\n",
      "20/02/26 19:09:15 INFO SparkContext: Added JAR file:/Users/jserrano/Library/Jupyter/kernels/scala212/launcher.jar at spark://192.168.1.36:53964/jars/launcher.jar with timestamp 1582740555055\n",
      "20/02/26 19:09:15 INFO SparkContext: Added JAR file:/Users/jserrano/Library/Caches/Coursier/v1/https/repo1.maven.org/maven2/org/scala-lang/scala-reflect/2.12.8/scala-reflect-2.12.8.jar at spark://192.168.1.36:53964/jars/scala-reflect-2.12.8.jar with timestamp 1582740555056\n",
      "20/02/26 19:09:15 INFO SparkContext: Added JAR file:/Users/jserrano/Library/Caches/Coursier/v1/https/repo1.maven.org/maven2/org/scala-lang/scala-library/2.12.10/scala-library-2.12.10.jar at spark://192.168.1.36:53964/jars/scala-library-2.12.10.jar with timestamp 1582740555058\n",
      "20/02/26 19:09:15 INFO SparkContext: Added JAR file:/Users/jserrano/Library/Caches/Coursier/v1/https/repo1.maven.org/maven2/org/eclipse/jetty/jetty-http/9.4.19.v20190610/jetty-http-9.4.19.v20190610.jar at spark://192.168.1.36:53964/jars/jetty-http-9.4.19.v20190610.jar with timestamp 1582740555058\n",
      "20/02/26 19:09:15 INFO SparkContext: Added JAR file:/Users/jserrano/Library/Caches/Coursier/v1/https/repo1.maven.org/maven2/org/eclipse/jetty/jetty-server/9.4.19.v20190610/jetty-server-9.4.19.v20190610.jar at spark://192.168.1.36:53964/jars/jetty-server-9.4.19.v20190610.jar with timestamp 1582740555059\n",
      "20/02/26 19:09:15 INFO SparkContext: Added JAR file:/Users/jserrano/Library/Caches/Coursier/v1/https/repo1.maven.org/maven2/org/eclipse/jetty/jetty-util/9.4.19.v20190610/jetty-util-9.4.19.v20190610.jar at spark://192.168.1.36:53964/jars/jetty-util-9.4.19.v20190610.jar with timestamp 1582740555060\n",
      "20/02/26 19:09:15 INFO SparkContext: Added JAR file:/Users/jserrano/Library/Caches/Coursier/v1/https/repo1.maven.org/maven2/sh/almond/almond-spark_2.12/0.6.0/almond-spark_2.12-0.6.0.jar at spark://192.168.1.36:53964/jars/almond-spark_2.12-0.6.0.jar with timestamp 1582740555061\n",
      "20/02/26 19:09:15 INFO SparkContext: Added JAR file:/Users/jserrano/Library/Caches/Coursier/v1/https/repo1.maven.org/maven2/sh/almond/ammonite-spark_2.12/0.5.0/ammonite-spark_2.12-0.5.0.jar at spark://192.168.1.36:53964/jars/ammonite-spark_2.12-0.5.0.jar with timestamp 1582740555062\n",
      "20/02/26 19:09:15 INFO SparkContext: Added JAR file:/Users/jserrano/Library/Caches/Coursier/v1/https/repo1.maven.org/maven2/org/eclipse/jetty/jetty-io/9.4.19.v20190610/jetty-io-9.4.19.v20190610.jar at spark://192.168.1.36:53964/jars/jetty-io-9.4.19.v20190610.jar with timestamp 1582740555062\n",
      "20/02/26 19:09:15 INFO SparkContext: Added JAR file:/Users/jserrano/Library/Caches/Coursier/v1/https/repo1.maven.org/maven2/org/scala-lang/scala-library/2.12.8/scala-library-2.12.8.jar at spark://192.168.1.36:53964/jars/scala-library-2.12.8.jar with timestamp 1582740555063\n",
      "20/02/26 19:09:15 INFO Executor: Starting executor ID driver on host localhost\n",
      "20/02/26 19:09:15 INFO Executor: Using REPL class URI: http://192.168.1.36:53962\n",
      "20/02/26 19:09:15 INFO Utils: Successfully started service 'org.apache.spark.network.netty.NettyBlockTransferService' on port 53965.\n",
      "20/02/26 19:09:15 INFO NettyBlockTransferService: Server created on 192.168.1.36:53965\n",
      "20/02/26 19:09:15 INFO BlockManager: Using org.apache.spark.storage.RandomBlockReplicationPolicy for block replication policy\n",
      "20/02/26 19:09:15 INFO BlockManagerMaster: Registering BlockManager BlockManagerId(driver, 192.168.1.36, 53965, None)\n",
      "20/02/26 19:09:15 INFO BlockManagerMasterEndpoint: Registering block manager 192.168.1.36:53965 with 912.3 MB RAM, BlockManagerId(driver, 192.168.1.36, 53965, None)\n",
      "20/02/26 19:09:15 INFO BlockManagerMaster: Registered BlockManager BlockManagerId(driver, 192.168.1.36, 53965, None)\n",
      "20/02/26 19:09:15 INFO BlockManager: Initialized BlockManager: BlockManagerId(driver, 192.168.1.36, 53965, None)\n"
     ]
    },
    {
     "data": {
      "text/html": [
       "<a href=\"http://192.168.1.36:4041\">Spark UI</a>"
      ]
     },
     "metadata": {},
     "output_type": "display_data"
    },
    {
     "data": {
      "text/plain": [
       "\u001b[32mimport \u001b[39m\u001b[36m$file.$           \n",
       "\u001b[39m\n",
       "\u001b[32mimport \u001b[39m\u001b[36msparksession._\n",
       "\u001b[39m\n",
       "\u001b[32mimport \u001b[39m\u001b[36mspark.implicits._\n",
       "\u001b[39m\n",
       "\u001b[32mimport \u001b[39m\u001b[36morg.apache.spark._\n",
       "\u001b[39m\n",
       "\u001b[32mimport \u001b[39m\u001b[36morg.apache.spark.sql.{functions => func, _}\n",
       "\u001b[39m\n",
       "\u001b[32mimport \u001b[39m\u001b[36morg.apache.spark.sql.types._\u001b[39m"
      ]
     },
     "execution_count": 1,
     "metadata": {},
     "output_type": "execute_result"
    }
   ],
   "source": [
    "import $file.sparksession\n",
    "import sparksession._\n",
    "import spark.implicits._\n",
    "import org.apache.spark._\n",
    "import org.apache.spark.sql.{functions => func, _}\n",
    "import org.apache.spark.sql.types._"
   ]
  },
  {
   "cell_type": "markdown",
   "metadata": {},
   "source": [
    "# How to create datasets from external data sources"
   ]
  },
  {
   "cell_type": "markdown",
   "metadata": {},
   "source": [
    "We can create datasets from external data sources using different formats, e.g. Json, parquet, CSV, etc. "
   ]
  },
  {
   "cell_type": "code",
   "execution_count": null,
   "metadata": {},
   "outputs": [],
   "source": [
    "sparksession.read.json."
   ]
  },
  {
   "cell_type": "markdown",
   "metadata": {},
   "source": [
    "# The problem of `Dataset`"
   ]
  },
  {
   "cell_type": "code",
   "execution_count": null,
   "metadata": {},
   "outputs": [],
   "source": []
  }
 ],
 "metadata": {
  "kernelspec": {
   "display_name": "Scala (2.12)",
   "language": "scala",
   "name": "scala212"
  },
  "language_info": {
   "codemirror_mode": "text/x-scala",
   "file_extension": ".scala",
   "mimetype": "text/x-scala",
   "name": "scala",
   "nbconvert_exporter": "script",
   "version": "2.12.9"
  }
 },
 "nbformat": 4,
 "nbformat_minor": 2
}
